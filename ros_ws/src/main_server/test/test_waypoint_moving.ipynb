{
 "cells": [
  {
   "cell_type": "code",
   "execution_count": 1,
   "id": "7588c550",
   "metadata": {},
   "outputs": [
    {
     "name": "stderr",
     "output_type": "stream",
     "text": [
      "[WARN] [1753369600.646655961] [rcl]: ROS_LOCALHOST_ONLY is deprecated but still honored if it is enabled. Use ROS_AUTOMATIC_DISCOVERY_RANGE and ROS_STATIC_PEERS instead.\n",
      "[WARN] [1753369600.646677531] [rcl]: 'localhost_only' is enabled, 'automatic_discovery_range' and 'static_peers' will be ignored.\n"
     ]
    }
   ],
   "source": [
    "from nav2_simple_commander.robot_navigator import BasicNavigator  # BasicNavigator 클래스 임포트\n",
    "import rclpy  # ROS2 Python 클라이언트 라이브러리 임포트\n",
    "\n",
    "rclpy.init()  # ROS2 노드 초기화\n",
    "nav = BasicNavigator()  # BasicNavigator 인스턴스 생성\n"
   ]
  },
  {
   "cell_type": "code",
   "execution_count": 2,
   "id": "bd546dff",
   "metadata": {},
   "outputs": [
    {
     "name": "stderr",
     "output_type": "stream",
     "text": [
      "[INFO] [1753369616.185619365] [basic_navigator]: Nav2 is ready for use!\n"
     ]
    }
   ],
   "source": [
    "nav.waitUntilNav2Active()"
   ]
  },
  {
   "cell_type": "markdown",
   "id": "33054453",
   "metadata": {},
   "source": [
    "# 로봇 각도 변환 함수"
   ]
  },
  {
   "cell_type": "code",
   "execution_count": 3,
   "id": "962ce84c",
   "metadata": {},
   "outputs": [],
   "source": [
    "import math  # 수학 함수 사용을 위한 모듈\n",
    "import tf_transformations  # 오일러 → 쿼터니언 변환용 모듈\n",
    "\n",
    "def get_quaternion_from_yaw(yaw_degrees):  # yaw 각도로부터 쿼터니언 생성\n",
    "    yaw_radians = math.radians(yaw_degrees)  # 도(degree)를 라디안(radian)으로 변환\n",
    "    quaternion = tf_transformations.quaternion_from_euler(0, 0, yaw_radians)  # Z축 회전만 적용\n",
    "    return quaternion  # 쿼터니언 반환\n"
   ]
  },
  {
   "cell_type": "markdown",
   "id": "14a64c0c",
   "metadata": {},
   "source": [
    "# 초기 위치 설정"
   ]
  },
  {
   "cell_type": "code",
   "execution_count": 4,
   "id": "0d0be8cd",
   "metadata": {},
   "outputs": [
    {
     "name": "stderr",
     "output_type": "stream",
     "text": [
      "[INFO] [1753370054.637313359] [basic_navigator]: Publishing Initial Pose\n"
     ]
    }
   ],
   "source": [
    "from geometry_msgs.msg import PoseStamped  # 위치 및 자세 정보를 담는 메시지 타입 임포트\n",
    "\n",
    "initial_yaw = 0  # 초기 yaw 각도 설정\n",
    "q = get_quaternion_from_yaw(initial_yaw)  # yaw → quaternion 변환\n",
    "\n",
    "initial_pose = PoseStamped()  # PoseStamped 메시지 생성\n",
    "initial_pose.header.frame_id = 'map'  # 참조 좌표계 설정\n",
    "initial_pose.header.stamp = nav.get_clock().now().to_msg()  # 현재 시간 설정\n",
    "\n",
    "initial_pose.pose.position.x = 0.0  # X 좌표\n",
    "initial_pose.pose.position.y = 0.0  # Y 좌표\n",
    "initial_pose.pose.position.z = 0.0  # Z 좌표\n",
    "\n",
    "initial_pose.pose.orientation.x = q[0]  # 쿼터니언 X\n",
    "initial_pose.pose.orientation.y = q[1]  # 쿼터니언 Y\n",
    "initial_pose.pose.orientation.z = q[2]  # 쿼터니언 Z\n",
    "initial_pose.pose.orientation.w = q[3]  # 쿼터니언 W\n",
    "\n",
    "nav.setInitialPose(initial_pose)  # 내비게이터에 초기 위치 설정\n"
   ]
  },
  {
   "cell_type": "markdown",
   "id": "2b46239f",
   "metadata": {},
   "source": [
    "# amcl 토픽 구독 노드"
   ]
  },
  {
   "cell_type": "code",
   "execution_count": 5,
   "id": "78862bbc",
   "metadata": {},
   "outputs": [
    {
     "data": {
      "text/plain": [
       "<rclpy.subscription.Subscription at 0x73e76021c230>"
      ]
     },
     "execution_count": 5,
     "metadata": {},
     "output_type": "execute_result"
    }
   ],
   "source": [
    "sub_amcl = rclpy.create_node('sub_amcl')  # 'sub_amcl'이라는 이름의 노드 생성\n",
    "\n",
    "def amcl_callback(msg):  # AMCL 위치 콜백 함수 정의\n",
    "    print(\"===\")  # 구분자 출력\n",
    "    print(msg.pose.pose.position)  # 위치 정보 출력\n",
    "    print(msg.pose.pose.orientation)  # 방향(quaternion) 정보 출력\n",
    "\n",
    "from geometry_msgs.msg import PoseWithCovarianceStamped  # AMCL 위치 메시지 타입 임포트\n",
    "\n",
    "sub_amcl.create_subscription(  # subscriber 생성\n",
    "    PoseWithCovarianceStamped,  # 메시지 타입\n",
    "    'amcl_pose',                # 구독할 토픽 이름\n",
    "    amcl_callback,              # 콜백 함수\n",
    "    10                          # 메시지 큐 크기\n",
    ")\n"
   ]
  },
  {
   "cell_type": "code",
   "execution_count": 6,
   "id": "4705b6f6",
   "metadata": {},
   "outputs": [
    {
     "name": "stderr",
     "output_type": "stream",
     "text": [
      "[INFO] [1753370105.873719785] [basic_navigator]: Navigating to goal: 0.0 1.0...\n"
     ]
    },
    {
     "data": {
      "text/plain": [
       "True"
      ]
     },
     "execution_count": 6,
     "metadata": {},
     "output_type": "execute_result"
    }
   ],
   "source": [
    "from geometry_msgs.msg import PoseStamped  # 목표 위치 설정용 메시지 타입 임포트\n",
    "\n",
    "goal_yaw = 0  # 목표 yaw 각도를 180도로 설정 (후방을 바라보게 함)\n",
    "q = get_quaternion_from_yaw(goal_yaw)  # yaw → quaternion 변환\n",
    "\n",
    "goal_pose = PoseStamped()  # PoseStamped 메시지 생성\n",
    "goal_pose.header.frame_id = 'map'  # 기준 좌표계를 'map'으로 설정\n",
    "goal_pose.header.stamp = nav.get_clock().now().to_msg()  # 현재 시간 설정\n",
    "\n",
    "goal_pose.pose.position.x = 0.0  # 목표 위치 x 좌표\n",
    "goal_pose.pose.position.y = 1.0  # 목표 위치 y 좌표\n",
    "goal_pose.pose.position.z = 0.0  # 목표 위치 z 좌표\n",
    "\n",
    "goal_pose.pose.orientation.x = q[0]  # quaternion x\n",
    "goal_pose.pose.orientation.y = q[1]  # quaternion y\n",
    "goal_pose.pose.orientation.z = q[2]  # quaternion z\n",
    "goal_pose.pose.orientation.w = q[3]  # quaternion w\n",
    "\n",
    "nav.goToPose(goal_pose)"
   ]
  },
  {
   "cell_type": "markdown",
   "id": "c801f447",
   "metadata": {},
   "source": [
    "# 상황 피드백 받기"
   ]
  },
  {
   "cell_type": "code",
   "execution_count": 17,
   "id": "0ab323d7",
   "metadata": {},
   "outputs": [
    {
     "name": "stdout",
     "output_type": "stream",
     "text": [
      "===\n",
      "geometry_msgs.msg.Point(x=0.14093165886686, y=0.7935431040698563, z=0.0)\n",
      "geometry_msgs.msg.Quaternion(x=0.0, y=0.0, z=0.023279307207261766, w=0.9997290002075312)\n",
      "===\n",
      "Distance remaining: 0.26 meters.\n"
     ]
    }
   ],
   "source": [
    "from rclpy.duration import Duration  # 시간 비교를 위한 Duration 클래스 임포트\n",
    "from IPython.display import clear_output  # Jupyter 환경에서 출력 정리용 함수\n",
    "\n",
    "while not nav.isTaskComplete():  # 작업이 완료될 때까지 반복\n",
    "    clear_output(wait=True)  # 이전 출력 지우기 (Jupyter 환경 전용)\n",
    "    rclpy.spin_once(sub_amcl, timeout_sec=1.0)  # AMCL 콜백 1초 대기하며 실행\n",
    "\n",
    "    feedback = nav.getFeedback()  # 현재 내비게이션 피드백 받기\n",
    "    print('===')  # 구분선 출력\n",
    "    print('Distance remaining: ' + '{:.2f}'.format(  # 남은 거리 출력\n",
    "        feedback.distance_remaining) + ' meters.')\n",
    "\n",
    "    if Duration.from_msg(feedback.navigation_time) > Duration(seconds=30.0):  # 30초 이상 경과 시\n",
    "        nav.cancelTask()  # 작업 취소\n"
   ]
  },
  {
   "cell_type": "markdown",
   "id": "11a22aa9",
   "metadata": {},
   "source": [
    "# 결과 확인용"
   ]
  },
  {
   "cell_type": "code",
   "execution_count": 18,
   "id": "a8cec663",
   "metadata": {},
   "outputs": [
    {
     "name": "stdout",
     "output_type": "stream",
     "text": [
      "Goal succeeded!\n"
     ]
    }
   ],
   "source": [
    "from nav2_simple_commander.robot_navigator import TaskResult  # 내비게이션 결과 상태 enum 임포트\n",
    "\n",
    "result = nav.getResult()  # 내비게이션 결과 상태 가져오기\n",
    "\n",
    "if result == TaskResult.SUCCEEDED:  # 성공적으로 도착한 경우\n",
    "    print('Goal succeeded!')\n",
    "\n",
    "elif result == TaskResult.CANCELED:  # 작업이 취소된 경우\n",
    "    print('Goal was canceled!')\n",
    "\n",
    "elif result == TaskResult.FAILED:  # 실패한 경우\n",
    "    print('Goal failed!')\n",
    "\n",
    "else:  # 알 수 없는 상태일 경우\n",
    "    print('Goal has an invalid return status!')\n"
   ]
  },
  {
   "cell_type": "markdown",
   "id": "7d7a9885",
   "metadata": {},
   "source": [
    "# Waypoint 여러개 만들기"
   ]
  },
  {
   "cell_type": "code",
   "execution_count": 15,
   "id": "0f96cd32",
   "metadata": {},
   "outputs": [],
   "source": [
    "from geometry_msgs.msg import PoseStamped  # 목표 위치 설정용 메시지 타입 임포트\n",
    "\n",
    "\n",
    "goal_pose_list = []  # 여러 개의 목표 위치를 담을 리스트 생성\n",
    "\n",
    "goal_yaw1 = 0  # 첫 번째 목표의 yaw 각도 (정면)\n",
    "q1 = get_quaternion_from_yaw(goal_yaw1)  # yaw → quaternion 변환\n",
    "\n",
    "goal_pose1 = PoseStamped()  # 첫 번째 목표 Pose 생성\n",
    "goal_pose1.header.frame_id = 'map'  # 기준 좌표계를 'map'으로 설정\n",
    "goal_pose1.header.stamp = nav.get_clock().now().to_msg()  # 현재 시간으로 타임스탬프 설정\n",
    "goal_pose1.pose.position.x = 1.31  # x 좌표\n",
    "goal_pose1.pose.position.y = 1.0  # y 좌표\n",
    "goal_pose1.pose.orientation.x = q1[0]  # quaternion x\n",
    "goal_pose1.pose.orientation.y = q1[1]  # quaternion y\n",
    "goal_pose1.pose.orientation.z = q1[2]  # quaternion z\n",
    "goal_pose1.pose.orientation.w = q1[3]  # quaternion w\n",
    "goal_pose_list.append(goal_pose1)  # 리스트에 추가\n",
    "\n",
    "goal_yaw2 = 180  # 두 번째 목표의 yaw 각도 (뒤쪽)\n",
    "q2 = get_quaternion_from_yaw(goal_yaw2)  # yaw → quaternion 변환\n",
    "\n",
    "goal_pose2 = PoseStamped()  # 두 번째 목표 Pose 생성\n",
    "goal_pose2.header.frame_id = 'map'\n",
    "goal_pose2.header.stamp = nav.get_clock().now().to_msg()\n",
    "goal_pose2.pose.position.x = -1.34\n",
    "goal_pose2.pose.position.y = 1.0\n",
    "goal_pose2.pose.orientation.x = q2[0]\n",
    "goal_pose2.pose.orientation.y = q2[1]\n",
    "goal_pose2.pose.orientation.z = q2[2]\n",
    "goal_pose2.pose.orientation.w = q2[3]\n",
    "goal_pose_list.append(goal_pose2)\n",
    "\n",
    "goal_yaw3 = 45  # 세 번째 목표의 yaw 각도 (대각선)\n",
    "q3 = get_quaternion_from_yaw(goal_yaw3)\n",
    "\n",
    "goal_pose3 = PoseStamped()\n",
    "goal_pose3.header.frame_id = 'map'\n",
    "goal_pose3.header.stamp = nav.get_clock().now().to_msg()\n",
    "goal_pose3.pose.position.x = -1.39\n",
    "goal_pose3.pose.position.y = -0.36\n",
    "goal_pose3.pose.orientation.x = q3[0]\n",
    "goal_pose3.pose.orientation.y = q3[1]\n",
    "goal_pose3.pose.orientation.z = q3[2]\n",
    "goal_pose3.pose.orientation.w = q3[3]\n",
    "goal_pose_list.append(goal_pose3)\n"
   ]
  },
  {
   "cell_type": "code",
   "execution_count": 16,
   "id": "363d31a7",
   "metadata": {},
   "outputs": [
    {
     "name": "stderr",
     "output_type": "stream",
     "text": [
      "[INFO] [1753359056.235398893] [basic_navigator]: Following 3 goals....\n"
     ]
    },
    {
     "data": {
      "text/plain": [
       "True"
      ]
     },
     "execution_count": 16,
     "metadata": {},
     "output_type": "execute_result"
    }
   ],
   "source": [
    "nav_start = nav.get_clock().now()  # 경로 추적 시작 시각 저장\n",
    "nav.followWaypoints(goal_pose_list)  # 여러 목표 지점을 따라 이동 명령 실행\n"
   ]
  },
  {
   "cell_type": "markdown",
   "id": "c2a9dd82",
   "metadata": {},
   "source": [
    "# 진행상황 살펴보기"
   ]
  },
  {
   "cell_type": "code",
   "execution_count": 17,
   "id": "23e15272",
   "metadata": {},
   "outputs": [
    {
     "name": "stdout",
     "output_type": "stream",
     "text": [
      "===\n",
      "Executing current waypoint: 3/3\n"
     ]
    }
   ],
   "source": [
    "from rclpy.duration import Duration  # 시간 비교를 위한 Duration 클래스 임포트\n",
    "from IPython.display import clear_output  # Jupyter 환경에서 출력 정리용 함수\n",
    "\n",
    "while not nav.isTaskComplete():  # 작업이 완료될 때까지 반복\n",
    "    clear_output(wait=True)  # 이전 출력 제거 (Jupyter 환경 전용)\n",
    "    rclpy.spin_once(sub_amcl, timeout_sec=1.0)  # AMCL subscriber 콜백 1초간 실행\n",
    "\n",
    "    feedback = nav.getFeedback()  # 현재 내비게이션 피드백 정보 가져오기\n",
    "\n",
    "    print(\"===\")  # 출력 구분선\n",
    "    print(  # 현재 수행 중인 웨이포인트 인덱스와 전체 개수 출력\n",
    "        'Executing current waypoint: '\n",
    "        + str(feedback.current_waypoint + 1)  # 현재 인덱스 (1부터 시작하는 표현)\n",
    "        + '/' + str(len(goal_pose_list))  # 전체 웨이포인트 수\n",
    "    )\n",
    "\n",
    "    now = nav.get_clock().now()  # 현재 시간\n",
    "    if now - nav_start > Duration(seconds=300.0):  # 5분(300초) 초과 시\n",
    "        nav.cancelTask()  # 내비게이션 작업 취소\n"
   ]
  },
  {
   "cell_type": "code",
   "execution_count": 3,
   "id": "eedad3d5",
   "metadata": {},
   "outputs": [
    {
     "name": "stderr",
     "output_type": "stream",
     "text": [
      "[INFO] [1753359325.163934274] [basic_navigator]: Shutting down lifecycle nodes based on lifecycle_manager.\n",
      "[INFO] [1753359325.164946630] [basic_navigator]: Shutting down /lifecycle_manager_localization/manage_nodes\n",
      "[INFO] [1753359326.166690752] [basic_navigator]: /lifecycle_manager_localization/manage_nodes service not available, waiting...\n",
      "[INFO] [1753359327.167659625] [basic_navigator]: /lifecycle_manager_localization/manage_nodes service not available, waiting...\n",
      "[INFO] [1753359328.168697650] [basic_navigator]: /lifecycle_manager_localization/manage_nodes service not available, waiting...\n",
      "[INFO] [1753359329.169706751] [basic_navigator]: /lifecycle_manager_localization/manage_nodes service not available, waiting...\n",
      "[INFO] [1753359330.170766352] [basic_navigator]: /lifecycle_manager_localization/manage_nodes service not available, waiting...\n",
      "[INFO] [1753359331.171743276] [basic_navigator]: /lifecycle_manager_localization/manage_nodes service not available, waiting...\n",
      "[INFO] [1753359332.172745340] [basic_navigator]: /lifecycle_manager_localization/manage_nodes service not available, waiting...\n",
      "[INFO] [1753359333.173770312] [basic_navigator]: /lifecycle_manager_localization/manage_nodes service not available, waiting...\n",
      "[INFO] [1753359334.174773361] [basic_navigator]: /lifecycle_manager_localization/manage_nodes service not available, waiting...\n",
      "[INFO] [1753359335.175792010] [basic_navigator]: /lifecycle_manager_localization/manage_nodes service not available, waiting...\n",
      "[INFO] [1753359336.176842959] [basic_navigator]: /lifecycle_manager_localization/manage_nodes service not available, waiting...\n",
      "[INFO] [1753359337.177834993] [basic_navigator]: /lifecycle_manager_localization/manage_nodes service not available, waiting...\n",
      "[INFO] [1753359338.178852757] [basic_navigator]: /lifecycle_manager_localization/manage_nodes service not available, waiting...\n",
      "[INFO] [1753359339.179869041] [basic_navigator]: /lifecycle_manager_localization/manage_nodes service not available, waiting...\n"
     ]
    },
    {
     "ename": "KeyboardInterrupt",
     "evalue": "",
     "output_type": "error",
     "traceback": [
      "\u001b[31m---------------------------------------------------------------------------\u001b[39m",
      "\u001b[31mKeyboardInterrupt\u001b[39m                         Traceback (most recent call last)",
      "\u001b[36mCell\u001b[39m\u001b[36m \u001b[39m\u001b[32mIn[3]\u001b[39m\u001b[32m, line 1\u001b[39m\n\u001b[32m----> \u001b[39m\u001b[32m1\u001b[39m \u001b[43mnav\u001b[49m\u001b[43m.\u001b[49m\u001b[43mlifecycleShutdown\u001b[49m\u001b[43m(\u001b[49m\u001b[43m)\u001b[49m\n\u001b[32m      2\u001b[39m rclpy.shutdown()\n",
      "\u001b[36mFile \u001b[39m\u001b[32m/opt/ros/jazzy/lib/python3.12/site-packages/nav2_simple_commander/robot_navigator.py:751\u001b[39m, in \u001b[36mBasicNavigator.lifecycleShutdown\u001b[39m\u001b[34m(self)\u001b[39m\n\u001b[32m    749\u001b[39m \u001b[38;5;28mself\u001b[39m.info(\u001b[33mf\u001b[39m\u001b[33m'\u001b[39m\u001b[33mShutting down \u001b[39m\u001b[38;5;132;01m{\u001b[39;00msrv_name\u001b[38;5;132;01m}\u001b[39;00m\u001b[33m'\u001b[39m)\n\u001b[32m    750\u001b[39m mgr_client = \u001b[38;5;28mself\u001b[39m.create_client(ManageLifecycleNodes, srv_name)\n\u001b[32m--> \u001b[39m\u001b[32m751\u001b[39m \u001b[38;5;28;01mwhile\u001b[39;00m \u001b[38;5;129;01mnot\u001b[39;00m \u001b[43mmgr_client\u001b[49m\u001b[43m.\u001b[49m\u001b[43mwait_for_service\u001b[49m\u001b[43m(\u001b[49m\u001b[43mtimeout_sec\u001b[49m\u001b[43m=\u001b[49m\u001b[32;43m1.0\u001b[39;49m\u001b[43m)\u001b[49m:\n\u001b[32m    752\u001b[39m     \u001b[38;5;28mself\u001b[39m.info(\u001b[33mf\u001b[39m\u001b[33m'\u001b[39m\u001b[38;5;132;01m{\u001b[39;00msrv_name\u001b[38;5;132;01m}\u001b[39;00m\u001b[33m service not available, waiting...\u001b[39m\u001b[33m'\u001b[39m)\n\u001b[32m    753\u001b[39m req = ManageLifecycleNodes.Request()\n",
      "\u001b[36mFile \u001b[39m\u001b[32m/opt/ros/jazzy/lib/python3.12/site-packages/rclpy/client.py:188\u001b[39m, in \u001b[36mClient.wait_for_service\u001b[39m\u001b[34m(self, timeout_sec)\u001b[39m\n\u001b[32m    186\u001b[39m     timeout_sec = \u001b[38;5;28mfloat\u001b[39m(\u001b[33m'\u001b[39m\u001b[33minf\u001b[39m\u001b[33m'\u001b[39m)\n\u001b[32m    187\u001b[39m \u001b[38;5;28;01mwhile\u001b[39;00m \u001b[38;5;28mself\u001b[39m.context.ok() \u001b[38;5;129;01mand\u001b[39;00m \u001b[38;5;129;01mnot\u001b[39;00m \u001b[38;5;28mself\u001b[39m.service_is_ready() \u001b[38;5;129;01mand\u001b[39;00m timeout_sec > \u001b[32m0.0\u001b[39m:\n\u001b[32m--> \u001b[39m\u001b[32m188\u001b[39m     \u001b[43mtime\u001b[49m\u001b[43m.\u001b[49m\u001b[43msleep\u001b[49m\u001b[43m(\u001b[49m\u001b[43msleep_time\u001b[49m\u001b[43m)\u001b[49m\n\u001b[32m    189\u001b[39m     timeout_sec -= sleep_time\n\u001b[32m    191\u001b[39m \u001b[38;5;28;01mreturn\u001b[39;00m \u001b[38;5;28mself\u001b[39m.service_is_ready()\n",
      "\u001b[31mKeyboardInterrupt\u001b[39m: "
     ]
    }
   ],
   "source": [
    "nav.lifecycleShutdown()\n",
    "rclpy.shutdown()"
   ]
  }
 ],
 "metadata": {
  "kernelspec": {
   "display_name": "ros_venv2",
   "language": "python",
   "name": "python3"
  },
  "language_info": {
   "codemirror_mode": {
    "name": "ipython",
    "version": 3
   },
   "file_extension": ".py",
   "mimetype": "text/x-python",
   "name": "python",
   "nbconvert_exporter": "python",
   "pygments_lexer": "ipython3",
   "version": "3.12.3"
  }
 },
 "nbformat": 4,
 "nbformat_minor": 5
}
